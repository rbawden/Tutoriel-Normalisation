{
 "cells": [
  {
   "cell_type": "markdown",
   "metadata": {
    "colab_type": "text",
    "id": "view-in-github"
   },
   "source": [
    "<a href=\"https://colab.research.google.com/github/rbawden/Tutoriel-Normalisation/blob/main/Tutoriel.ipynb\" target=\"_parent\"><img src=\"https://colab.research.google.com/assets/colab-badge.svg\" alt=\"Open In Colab\"/></a>"
   ]
  },
  {
   "cell_type": "markdown",
   "metadata": {},
   "source": [
    "# Explorations sur la normalisation du français moderne"
   ]
  },
  {
   "cell_type": "markdown",
   "metadata": {},
   "source": [
    "## 1. Setup de l'environnement, téléchargement des fichiers, etc."
   ]
  },
  {
   "cell_type": "markdown",
   "metadata": {},
   "source": [
    "Installer les paquets python"
   ]
  },
  {
   "cell_type": "code",
   "execution_count": 19,
   "metadata": {
    "scrolled": true
   },
   "outputs": [
    {
     "name": "stdout",
     "output_type": "stream",
     "text": [
      "Requirement already satisfied: gdown==4.2.0 in /Users/rbawden/miniconda3/envs/py37/lib/python3.7/site-packages (4.2.0)\n",
      "Requirement already satisfied: beautifulsoup4 in /Users/rbawden/miniconda3/envs/py37/lib/python3.7/site-packages (from gdown==4.2.0) (4.10.0)\n",
      "Requirement already satisfied: filelock in /Users/rbawden/miniconda3/envs/py37/lib/python3.7/site-packages (from gdown==4.2.0) (3.4.0)\n",
      "Requirement already satisfied: tqdm in /Users/rbawden/miniconda3/envs/py37/lib/python3.7/site-packages (from gdown==4.2.0) (4.62.3)\n",
      "Requirement already satisfied: six in /Users/rbawden/miniconda3/envs/py37/lib/python3.7/site-packages (from gdown==4.2.0) (1.16.0)\n",
      "Requirement already satisfied: requests[socks] in /Users/rbawden/miniconda3/envs/py37/lib/python3.7/site-packages (from gdown==4.2.0) (2.26.0)\n",
      "Requirement already satisfied: soupsieve>1.2 in /Users/rbawden/miniconda3/envs/py37/lib/python3.7/site-packages (from beautifulsoup4->gdown==4.2.0) (2.3.1)\n",
      "Requirement already satisfied: urllib3<1.27,>=1.21.1 in /Users/rbawden/miniconda3/envs/py37/lib/python3.7/site-packages (from requests[socks]->gdown==4.2.0) (1.26.7)\n",
      "Requirement already satisfied: certifi>=2017.4.17 in /Users/rbawden/miniconda3/envs/py37/lib/python3.7/site-packages (from requests[socks]->gdown==4.2.0) (2021.10.8)\n",
      "Requirement already satisfied: charset-normalizer~=2.0.0 in /Users/rbawden/miniconda3/envs/py37/lib/python3.7/site-packages (from requests[socks]->gdown==4.2.0) (2.0.8)\n",
      "Requirement already satisfied: idna<4,>=2.5 in /Users/rbawden/miniconda3/envs/py37/lib/python3.7/site-packages (from requests[socks]->gdown==4.2.0) (3.3)\n",
      "Requirement already satisfied: PySocks!=1.5.7,>=1.5.6 in /Users/rbawden/miniconda3/envs/py37/lib/python3.7/site-packages (from requests[socks]->gdown==4.2.0) (1.7.1)\n",
      "Collecting fairseq@ git+git://github.com/pytorch/fairseq.git@5a75b079bf8911a327940c28794608e003a9fa52\n",
      "  Using cached fairseq-1.0.0a0+5a75b07-cp37-cp37m-macosx_10_9_x86_64.whl\n",
      "Requirement already satisfied: torch in /Users/rbawden/miniconda3/envs/py37/lib/python3.7/site-packages (from fairseq@ git+git://github.com/pytorch/fairseq.git@5a75b079bf8911a327940c28794608e003a9fa52) (1.10.0)\n",
      "Requirement already satisfied: numpy in /Users/rbawden/miniconda3/envs/py37/lib/python3.7/site-packages (from fairseq@ git+git://github.com/pytorch/fairseq.git@5a75b079bf8911a327940c28794608e003a9fa52) (1.21.4)\n",
      "Requirement already satisfied: sacrebleu>=1.4.12 in /Users/rbawden/miniconda3/envs/py37/lib/python3.7/site-packages (from fairseq@ git+git://github.com/pytorch/fairseq.git@5a75b079bf8911a327940c28794608e003a9fa52) (2.0.0)\n",
      "Requirement already satisfied: hydra-core<1.1 in /Users/rbawden/miniconda3/envs/py37/lib/python3.7/site-packages (from fairseq@ git+git://github.com/pytorch/fairseq.git@5a75b079bf8911a327940c28794608e003a9fa52) (1.0.7)\n",
      "Requirement already satisfied: tqdm in /Users/rbawden/miniconda3/envs/py37/lib/python3.7/site-packages (from fairseq@ git+git://github.com/pytorch/fairseq.git@5a75b079bf8911a327940c28794608e003a9fa52) (4.62.3)\n",
      "Requirement already satisfied: omegaconf<2.1 in /Users/rbawden/miniconda3/envs/py37/lib/python3.7/site-packages (from fairseq@ git+git://github.com/pytorch/fairseq.git@5a75b079bf8911a327940c28794608e003a9fa52) (1.4.1)\n",
      "Requirement already satisfied: cython in /Users/rbawden/miniconda3/envs/py37/lib/python3.7/site-packages (from fairseq@ git+git://github.com/pytorch/fairseq.git@5a75b079bf8911a327940c28794608e003a9fa52) (0.29.24)\n",
      "Requirement already satisfied: cffi in /Users/rbawden/miniconda3/envs/py37/lib/python3.7/site-packages (from fairseq@ git+git://github.com/pytorch/fairseq.git@5a75b079bf8911a327940c28794608e003a9fa52) (1.15.0)\n",
      "Requirement already satisfied: regex in /Users/rbawden/miniconda3/envs/py37/lib/python3.7/site-packages (from fairseq@ git+git://github.com/pytorch/fairseq.git@5a75b079bf8911a327940c28794608e003a9fa52) (2021.11.10)\n",
      "Requirement already satisfied: antlr4-python3-runtime==4.8 in /Users/rbawden/miniconda3/envs/py37/lib/python3.7/site-packages (from hydra-core<1.1->fairseq@ git+git://github.com/pytorch/fairseq.git@5a75b079bf8911a327940c28794608e003a9fa52) (4.8)\n",
      "Collecting omegaconf<2.1\n",
      "  Using cached omegaconf-2.0.6-py3-none-any.whl (36 kB)\n",
      "Requirement already satisfied: importlib-resources in /Users/rbawden/miniconda3/envs/py37/lib/python3.7/site-packages (from hydra-core<1.1->fairseq@ git+git://github.com/pytorch/fairseq.git@5a75b079bf8911a327940c28794608e003a9fa52) (5.4.0)\n",
      "Requirement already satisfied: typing-extensions in /Users/rbawden/miniconda3/envs/py37/lib/python3.7/site-packages (from omegaconf<2.1->fairseq@ git+git://github.com/pytorch/fairseq.git@5a75b079bf8911a327940c28794608e003a9fa52) (4.0.0)\n",
      "Requirement already satisfied: PyYAML>=5.1.* in /Users/rbawden/miniconda3/envs/py37/lib/python3.7/site-packages (from omegaconf<2.1->fairseq@ git+git://github.com/pytorch/fairseq.git@5a75b079bf8911a327940c28794608e003a9fa52) (6.0)\n",
      "Requirement already satisfied: tabulate>=0.8.9 in /Users/rbawden/miniconda3/envs/py37/lib/python3.7/site-packages (from sacrebleu>=1.4.12->fairseq@ git+git://github.com/pytorch/fairseq.git@5a75b079bf8911a327940c28794608e003a9fa52) (0.8.9)\n",
      "Requirement already satisfied: colorama in /Users/rbawden/miniconda3/envs/py37/lib/python3.7/site-packages (from sacrebleu>=1.4.12->fairseq@ git+git://github.com/pytorch/fairseq.git@5a75b079bf8911a327940c28794608e003a9fa52) (0.4.4)\n",
      "Requirement already satisfied: portalocker in /Users/rbawden/miniconda3/envs/py37/lib/python3.7/site-packages (from sacrebleu>=1.4.12->fairseq@ git+git://github.com/pytorch/fairseq.git@5a75b079bf8911a327940c28794608e003a9fa52) (2.3.2)\n",
      "Requirement already satisfied: pycparser in /Users/rbawden/miniconda3/envs/py37/lib/python3.7/site-packages (from cffi->fairseq@ git+git://github.com/pytorch/fairseq.git@5a75b079bf8911a327940c28794608e003a9fa52) (2.21)\n",
      "Requirement already satisfied: zipp>=3.1.0 in /Users/rbawden/miniconda3/envs/py37/lib/python3.7/site-packages (from importlib-resources->hydra-core<1.1->fairseq@ git+git://github.com/pytorch/fairseq.git@5a75b079bf8911a327940c28794608e003a9fa52) (3.6.0)\n",
      "Installing collected packages: omegaconf\n",
      "  Attempting uninstall: omegaconf\n",
      "    Found existing installation: omegaconf 1.4.1\n",
      "    Uninstalling omegaconf-1.4.1:\n",
      "      Successfully uninstalled omegaconf-1.4.1\n",
      "Successfully installed omegaconf-2.0.6\n",
      "Requirement already satisfied: sentencepiece in /Users/rbawden/miniconda3/envs/py37/lib/python3.7/site-packages (0.1.96)\n",
      "Requirement already satisfied: sacrebleu in /Users/rbawden/miniconda3/envs/py37/lib/python3.7/site-packages (2.0.0)\n",
      "Requirement already satisfied: hydra-core in /Users/rbawden/miniconda3/envs/py37/lib/python3.7/site-packages (1.0.7)\n",
      "Requirement already satisfied: regex in /Users/rbawden/miniconda3/envs/py37/lib/python3.7/site-packages (from sacrebleu) (2021.11.10)\n",
      "Requirement already satisfied: tabulate>=0.8.9 in /Users/rbawden/miniconda3/envs/py37/lib/python3.7/site-packages (from sacrebleu) (0.8.9)\n",
      "Requirement already satisfied: colorama in /Users/rbawden/miniconda3/envs/py37/lib/python3.7/site-packages (from sacrebleu) (0.4.4)\n",
      "Requirement already satisfied: portalocker in /Users/rbawden/miniconda3/envs/py37/lib/python3.7/site-packages (from sacrebleu) (2.3.2)\n",
      "Requirement already satisfied: numpy>=1.17 in /Users/rbawden/miniconda3/envs/py37/lib/python3.7/site-packages (from sacrebleu) (1.21.4)\n",
      "Requirement already satisfied: importlib-resources in /Users/rbawden/miniconda3/envs/py37/lib/python3.7/site-packages (from hydra-core) (5.4.0)\n",
      "Requirement already satisfied: omegaconf<2.1,>=2.0.5 in /Users/rbawden/miniconda3/envs/py37/lib/python3.7/site-packages (from hydra-core) (2.0.6)\n",
      "Requirement already satisfied: antlr4-python3-runtime==4.8 in /Users/rbawden/miniconda3/envs/py37/lib/python3.7/site-packages (from hydra-core) (4.8)\n",
      "Requirement already satisfied: typing-extensions in /Users/rbawden/miniconda3/envs/py37/lib/python3.7/site-packages (from omegaconf<2.1,>=2.0.5->hydra-core) (4.0.0)\n",
      "Requirement already satisfied: PyYAML>=5.1.* in /Users/rbawden/miniconda3/envs/py37/lib/python3.7/site-packages (from omegaconf<2.1,>=2.0.5->hydra-core) (6.0)\n",
      "Requirement already satisfied: zipp>=3.1.0 in /Users/rbawden/miniconda3/envs/py37/lib/python3.7/site-packages (from importlib-resources->hydra-core) (3.6.0)\n"
     ]
    },
    {
     "name": "stdout",
     "output_type": "stream",
     "text": [
      "Collecting omegaconf==2.0.5\n",
      "  Downloading omegaconf-2.0.5-py3-none-any.whl (36 kB)\n",
      "Requirement already satisfied: PyYAML>=5.1.* in /Users/rbawden/miniconda3/envs/py37/lib/python3.7/site-packages (from omegaconf==2.0.5) (6.0)\n",
      "Requirement already satisfied: typing-extensions in /Users/rbawden/miniconda3/envs/py37/lib/python3.7/site-packages (from omegaconf==2.0.5) (4.0.0)\n",
      "Installing collected packages: omegaconf\n",
      "  Attempting uninstall: omegaconf\n",
      "    Found existing installation: omegaconf 2.0.6\n",
      "    Uninstalling omegaconf-2.0.6:\n",
      "      Successfully uninstalled omegaconf-2.0.6\n",
      "Successfully installed omegaconf-2.0.5\n"
     ]
    }
   ],
   "source": [
    "!pip install fairseq@git+git://github.com/pytorch/fairseq.git@5a75b079bf8911a327940c28794608e003a9fa52 \n",
    "!pip install sentencepiece sacrebleu hydra-core omegaconf==2.0.5 gdown==4.2.0 "
   ]
  },
  {
   "cell_type": "markdown",
   "metadata": {},
   "source": [
    "Télécharger les données et les modèles depuis Google Drive et stocker-les dans `data-models/`"
   ]
  },
  {
   "cell_type": "code",
   "execution_count": 3,
   "metadata": {
    "scrolled": true
   },
   "outputs": [],
   "source": [
    "![ -d data-models ] || gdown https://drive.google.com/drive/folders/1h-qSnPBPZFZQ_kqWIBMhkkFS-6C2b10H?usp=sharing -O data-models --folder "
   ]
  },
  {
   "cell_type": "markdown",
   "metadata": {},
   "source": [
    "Créer des liens symboliques pour rendre les fichiers/dossiers téléchargés plus accessible"
   ]
  },
  {
   "cell_type": "code",
   "execution_count": 40,
   "metadata": {},
   "outputs": [],
   "source": [
    "![ -d data ] || mkdir data; [ -d models ] || mkdir models\n",
    "!for file in data-models/*{src,trg,model,vocab}; do ln -sf  $PWD/$file $PWD/data/; done\n",
    "!for file in data-models/*{txt,pt}; do ln -sf $PWD/$file $PWD/models/; done\n",
    "!ln -sf $PWD/models/dict.txt $PWD/models/dict.src.txt\n",
    "!ln -sf $PWD/models/dict.txt $PWD/models/dict.trg.txt"
   ]
  },
  {
   "cell_type": "markdown",
   "metadata": {},
   "source": [
    "## 2. Préparation des données à normaliser"
   ]
  },
  {
   "cell_type": "markdown",
   "metadata": {},
   "source": [
    "Fonctions pour lire le contenu d'un fichier ligne par ligne et pour les lire depuis un fichier"
   ]
  },
  {
   "cell_type": "code",
   "execution_count": 42,
   "metadata": {},
   "outputs": [],
   "source": [
    "def read_file(filename):\n",
    "  contents = []\n",
    "  with open(filename) as fp:\n",
    "    for line in fp:\n",
    "      contents.append(line.strip())\n",
    "  return contents\n",
    "\n",
    "def write_file(list_sents, filename):\n",
    "    with open(filename, 'w') as fp:\n",
    "        for sent in list_sents:\n",
    "            fp.write(sent + '\\n')"
   ]
  },
  {
   "cell_type": "markdown",
   "metadata": {},
   "source": [
    "Lire le contenu des données parallèles"
   ]
  },
  {
   "cell_type": "code",
   "execution_count": 43,
   "metadata": {},
   "outputs": [],
   "source": [
    "data_src = read_file('data/dev.src')\n",
    "data_trg = read_file('data/dev.trg')"
   ]
  },
  {
   "cell_type": "markdown",
   "metadata": {},
   "source": [
    "Visualiser le début des textes sources (src) et cibles (trg)"
   ]
  },
  {
   "cell_type": "code",
   "execution_count": 47,
   "metadata": {},
   "outputs": [
    {
     "name": "stdout",
     "output_type": "stream",
     "text": [
      "src =  1.\n",
      "trg =  1.\n",
      "--\n",
      "src =  1. QVe cette propoſtion, qu'vn eſpace eſt vuidé, repugne au ſens commun.\n",
      "trg =  1. QUe cette proposition, qu'un espace est vidé, répugne au sens commun.\n",
      "--\n",
      "src =  1. QVe tous les corps ont repugnance à ſe ſeparer l'vn de l'autre, & admettre du vuide dans leur interualle;\n",
      "trg =  1. QUe tous les corps ont répugnance à se séparer l'un de l'autre, et admettre du vide dans leur intervalle;\n",
      "--\n",
      "src =  1. QVe tous les corps ont repugnance à ſe ſeparer l'vn de l'autre, & admettre ce vuide apparent dans leur interualle:\n",
      "trg =  1. QUe tous les corps ont répugnance à se séparer l'un de l'autre, et admettre ce vide apparent dans leur intervalle:\n",
      "--\n"
     ]
    }
   ],
   "source": [
    "for i in range(4):\n",
    "    print('src = ', data_src[i])\n",
    "    print('trg = ', data_trg[i])\n",
    "    print('--')"
   ]
  },
  {
   "cell_type": "markdown",
   "metadata": {},
   "source": [
    "Charger le modèle de segmentation en sous-mots"
   ]
  },
  {
   "cell_type": "code",
   "execution_count": 45,
   "metadata": {},
   "outputs": [],
   "source": [
    "import sentencepiece\n",
    "spm = sentencepiece.SentencePieceProcessor(model_file='data/bpe_joint_1000.model')"
   ]
  },
  {
   "cell_type": "markdown",
   "metadata": {},
   "source": [
    "Appliquer le modèle sur les données"
   ]
  },
  {
   "cell_type": "code",
   "execution_count": 46,
   "metadata": {},
   "outputs": [],
   "source": [
    "data_src_sp = spm.encode(data_src, out_type=str)\n",
    "data_trg_sp = spm.encode(data_trg, out_type=str)"
   ]
  },
  {
   "cell_type": "markdown",
   "metadata": {},
   "source": [
    "Ecrire les données pre-traités dans des fichiers"
   ]
  },
  {
   "cell_type": "code",
   "execution_count": 48,
   "metadata": {},
   "outputs": [],
   "source": [
    "write_file([' '.join(phrase) for phrase in data_src_sp], 'data/dev.sp.src')\n",
    "write_file([' '.join(phrase) for phrase in data_trg_sp], 'data/dev.sp.trg')"
   ]
  },
  {
   "cell_type": "markdown",
   "metadata": {},
   "source": [
    "Visualiser le début de textes"
   ]
  },
  {
   "cell_type": "code",
   "execution_count": 12,
   "metadata": {
    "scrolled": true
   },
   "outputs": [
    {
     "name": "stdout",
     "output_type": "stream",
     "text": [
      "src =  ['▁1', '.']\n",
      "trg =  ['▁1', '.']\n",
      "--\n",
      "src =  ['▁1', '.', '▁Q', 'V', 'e', '▁cette', '▁prop', 'ost', 'ion', ',', '▁qu', \"'\", 'vn', '▁esp', 'ace', '▁est', '▁v', 'ui', 'd', 'é', ',', '▁re', 'p', 'u', 'gne', '▁au', '▁sens', '▁comm', 'un', '.']\n",
      "trg =  ['▁1', '.', '▁Q', 'U', 'e', '▁cette', '▁prop', 'os', 'it', 'ion', ',', '▁qu', \"'\", 'un', '▁esp', 'ace', '▁est', '▁v', 'id', 'é', ',', '▁rép', 'u', 'gne', '▁au', '▁sens', '▁comm', 'un', '.']\n",
      "--\n",
      "src =  ['▁1', '.', '▁Q', 'V', 'e', '▁tous', '▁les', '▁cor', 'p', 's', '▁ont', '▁re', 'p', 'u', 'gn', 'ance', '▁à', '▁se', '▁se', 'p', 'are', 'r', '▁l', \"'\", 'vn', '▁de', '▁l', \"'\", 'autre', ',', '▁&', '▁ad', 'm', 'ettre', '▁du', '▁v', 'ui', 'de', '▁dans', '▁leur', '▁in', 'ter', 'u', 'al', 'le', ';']\n",
      "trg =  ['▁1', '.', '▁Q', 'U', 'e', '▁tous', '▁les', '▁cor', 'p', 's', '▁ont', '▁rép', 'u', 'gn', 'ance', '▁à', '▁se', '▁s', 'ép', 'are', 'r', '▁l', \"'\", 'un', '▁de', '▁l', \"'\", 'autre', ',', '▁et', '▁ad', 'm', 'ettre', '▁du', '▁vi', 'de', '▁dans', '▁leur', '▁in', 'ter', 'v', 'al', 'le', ';']\n",
      "--\n",
      "src =  ['▁1', '.', '▁Q', 'V', 'e', '▁tous', '▁les', '▁cor', 'p', 's', '▁ont', '▁re', 'p', 'u', 'gn', 'ance', '▁à', '▁se', '▁se', 'p', 'are', 'r', '▁l', \"'\", 'vn', '▁de', '▁l', \"'\", 'autre', ',', '▁&', '▁ad', 'm', 'ettre', '▁ce', '▁v', 'ui', 'de', '▁app', 'ar', 'ent', '▁dans', '▁leur', '▁in', 'ter', 'u', 'al', 'le', ':']\n",
      "trg =  ['▁1', '.', '▁Q', 'U', 'e', '▁tous', '▁les', '▁cor', 'p', 's', '▁ont', '▁rép', 'u', 'gn', 'ance', '▁à', '▁se', '▁s', 'ép', 'are', 'r', '▁l', \"'\", 'un', '▁de', '▁l', \"'\", 'autre', ',', '▁et', '▁ad', 'm', 'ettre', '▁ce', '▁vi', 'de', '▁app', 'ar', 'ent', '▁dans', '▁leur', '▁in', 'ter', 'v', 'al', 'le', ':']\n",
      "--\n"
     ]
    }
   ],
   "source": [
    "for i in range(4):\n",
    "    print('src = ', data_src_sp[i])\n",
    "    print('trg = ', data_trg_sp[i])\n",
    "    print('--')"
   ]
  },
  {
   "cell_type": "markdown",
   "metadata": {},
   "source": [
    "Définir une fonction pour détokeniser (pour plus tard)"
   ]
  },
  {
   "cell_type": "code",
   "execution_count": 51,
   "metadata": {},
   "outputs": [],
   "source": [
    "def decode_sp(list_sents):\n",
    "    return [''.join(sent).replace(' ', '').replace('▁', ' ') for sent in list_sents]"
   ]
  },
  {
   "cell_type": "markdown",
   "metadata": {},
   "source": [
    "Visualiser à quoi ressemble le texte détokenisé (Spoiler: il devrait ressembler au texte de départ)"
   ]
  },
  {
   "cell_type": "code",
   "execution_count": 54,
   "metadata": {},
   "outputs": [
    {
     "data": {
      "text/plain": [
       "[' 1.',\n",
       " \" 1. QVe cette propostion, qu'vn espace est vuidé, repugne au sens commun.\",\n",
       " \" 1. QVe tous les corps ont repugnance à se separer l'vn de l'autre, & admettre du vuide dans leur interualle;\",\n",
       " \" 1. QVe tous les corps ont repugnance à se separer l'vn de l'autre, & admettre ce vuide apparent dans leur interualle:\",\n",
       " ' 2.']"
      ]
     },
     "execution_count": 54,
     "metadata": {},
     "output_type": "execute_result"
    }
   ],
   "source": [
    "decode_sp(data_src_sp[:5])"
   ]
  },
  {
   "cell_type": "markdown",
   "metadata": {},
   "source": [
    "## 3. Appliquer le modèle de normalisation"
   ]
  },
  {
   "cell_type": "markdown",
   "metadata": {},
   "source": [
    "Appliquer le modèle de normalisation sur le début des données pre-traitées (les messages \"User Warning\" ne sont pas graves)"
   ]
  },
  {
   "cell_type": "code",
   "execution_count": 55,
   "metadata": {
    "scrolled": true
   },
   "outputs": [
    {
     "name": "stdout",
     "output_type": "stream",
     "text": [
      "/Users/rbawden/miniconda3/envs/py37/lib/python3.7/site-packages/fairseq/search.py:140: UserWarning: __floordiv__ is deprecated, and its behavior will change in a future version of pytorch. It currently rounds toward 0 (like the 'trunc' function NOT 'floor'). This results in incorrect rounding for negative values. To keep the current behavior, use torch.div(a, b, rounding_mode='trunc'), or for actual floor division, use torch.div(a, b, rounding_mode='floor').\n",
      "  beams_buf = indices_buf // vocab_size\n",
      "/Users/rbawden/miniconda3/envs/py37/lib/python3.7/site-packages/fairseq/sequence_generator.py:669: UserWarning: __floordiv__ is deprecated, and its behavior will change in a future version of pytorch. It currently rounds toward 0 (like the 'trunc' function NOT 'floor'). This results in incorrect rounding for negative values. To keep the current behavior, use torch.div(a, b, rounding_mode='trunc'), or for actual floor division, use torch.div(a, b, rounding_mode='floor').\n",
      "  unfin_idx = idx // beam_size\n"
     ]
    }
   ],
   "source": [
    "!head -n 10 data/dev.sp.src | fairseq-interactive models/ --source-lang src --target-lang trg --path models/model.pt > data/dev.sp.norm.trg.10.output"
   ]
  },
  {
   "cell_type": "markdown",
   "metadata": {},
   "source": [
    "La sortie de fairseq-interactive donne quelque chose comme ceci:\n",
    "\n",
    "```\n",
    "S-0     ▁1 .\n",
    "H-0     -0.00011481383990030736 ▁1 .\n",
    "P-0     -0.0000 -0.0003 -0.0000\n",
    "S-1     ▁1 . ▁Q V e ▁cette ▁prop ost ion , ▁qu ' vn ▁esp ace ▁est ▁v ui d é , ▁re p u gne ▁au ▁sens ▁comm un .\n",
    "H-1     -0.039981111884117126   ▁1 . ▁Q U e ▁cette ▁prop ost ion , ▁qu ' un ▁esp ace ▁est ▁v ui d é , ▁rép u gne ▁au ▁sens ▁comm un .\n",
    "P-1     -0.0000 -0.0000 -0.0043 -0.0632 -0.0006 -0.0000 -0.0001 -0.9353 -0.0001 -0.0012 -0.0000 0.0000 -0.0001 -0.0078 -0.0070 -0.0000 -0.0022 -0.1168 -0.0001 -0.0000 -0.0000 -0.0389 -0.0157 -0.0053 -0.0000 -0.0000 -0.0001 -0.0000 -0.0004 -0.0000\n",
    "S-2     ▁1 . ▁Q V e ▁tous ▁les ▁cor p s ▁ont ▁re p u gn ance ▁à ▁se ▁se p are r ▁l ' vn ▁de ▁l ' autre , ▁& ▁ad m ettre ▁du ▁v ui de ▁dans ▁leur ▁in ter u al le ;\n",
    "W-2     0.682   seconds\n",
    "H-2     -0.019450930878520012   ▁1 . ▁Q U e ▁tous ▁les ▁cor p s ▁ont ▁rép u gn ance ▁à ▁se ▁s ép are r ▁l ' un ▁de ▁l ' autre , ▁et ▁ad m ettre ▁du ▁v ui de ▁dans ▁leur ▁in ter v és le ;\n",
    "D-2     -0.019450930878520012   ▁1 . ▁Q U e ▁tous ▁les ▁cor p s ▁ont ▁rép u gn ance ▁à ▁se ▁s ép are r ▁l ' un ▁de ▁l ' autre , ▁et ▁ad m ettre ▁du ▁v ui de ▁dans ▁leur ▁in ter v és le ;\n",
    "P-2     -0.0000 -0.0001 -0.0040 -0.1684 -0.0004 -0.0000 -0.0000 -0.0000 -0.0007 -0.0000 -0.0001 -0.1220 -0.0063 -0.0002 -0.0137 -0.0000 -0.0000 -0.0002 -0.0001 -0.0248 -0.0022 -0.0003 -0.0000 -0.0000 -0.0000 -0.0000 -0.0000 -0.0000 -0.0002 -0.0001 -0.0000 -0.0000 -0.0000 -0.0000 -0.0383 -0.0173 -0.0006 -0.0000 -0.0000 -0.0000 -0.0066 -0.0016 -0.4856 -0.0007 -0.0002 -0.0000\n",
    "```\n",
    "\n",
    "Les informations intéressantes pour l'exemple `i`:\n",
    "\n",
    "- S-i: le texte source\n",
    "- W-i: la durée de la normalisation de ce texte\n",
    "- H-i: le score de l'hypothèse et l'hypothèse du modèle (c'est-à-dire la prédiction)\n",
    "- P-i: les scores de chaque sous-token produit par le modèle"
   ]
  },
  {
   "cell_type": "markdown",
   "metadata": {},
   "source": [
    "Fonction pour extraire l'hypothèse de ce fichier"
   ]
  },
  {
   "cell_type": "code",
   "execution_count": 57,
   "metadata": {},
   "outputs": [],
   "source": [
    "def extract_hypothesis(filename):\n",
    "    outputs = []\n",
    "    with open(filename) as fp:\n",
    "        for line in fp:\n",
    "            if 'H-' in line:\n",
    "                outputs.append(line.strip().split('\\t')[2])\n",
    "    return outputs"
   ]
  },
  {
   "cell_type": "markdown",
   "metadata": {},
   "source": [
    "Extraire les hypothèses du fichier produit"
   ]
  },
  {
   "cell_type": "code",
   "execution_count": 60,
   "metadata": {},
   "outputs": [],
   "source": [
    "outputs = extract_hypothesis('data/dev.sp.norm.trg.output')"
   ]
  },
  {
   "cell_type": "code",
   "execution_count": 61,
   "metadata": {},
   "outputs": [
    {
     "data": {
      "text/plain": [
       "['▁1 .',\n",
       " \"▁1 . ▁Q U e ▁cette ▁prop ost ion , ▁qu ' un ▁esp ace ▁est ▁v ui d é , ▁rép u gne ▁au ▁sens ▁comm un .\",\n",
       " \"▁1 . ▁Q U e ▁tous ▁les ▁cor p s ▁ont ▁rép u gn ance ▁à ▁se ▁s ép are r ▁l ' un ▁de ▁l ' autre , ▁et ▁ad m ettre ▁du ▁v ui de ▁dans ▁leur ▁in ter v és le ;\"]"
      ]
     },
     "execution_count": 61,
     "metadata": {},
     "output_type": "execute_result"
    }
   ],
   "source": [
    "outputs[:3]"
   ]
  },
  {
   "cell_type": "markdown",
   "metadata": {},
   "source": [
    "Post-traité le texte avec la fonction précedemment définie"
   ]
  },
  {
   "cell_type": "code",
   "execution_count": 64,
   "metadata": {},
   "outputs": [],
   "source": [
    "outputs_postproc = decode_sp(outputs)"
   ]
  },
  {
   "cell_type": "markdown",
   "metadata": {},
   "source": [
    "Écrire le résultat dans un fichier"
   ]
  },
  {
   "cell_type": "code",
   "execution_count": 65,
   "metadata": {},
   "outputs": [],
   "source": [
    "write_file(outputs_postproc, 'data/dev.sp.norm.trg')"
   ]
  },
  {
   "cell_type": "markdown",
   "metadata": {},
   "source": [
    "## 4. Évaluation du résultat"
   ]
  },
  {
   "cell_type": "code",
   "execution_count": null,
   "metadata": {},
   "outputs": [],
   "source": []
  }
 ],
 "metadata": {
  "colab": {
   "authorship_tag": "ABX9TyN8AweSe1ASxQbXHW5LKQ6B",
   "include_colab_link": true,
   "name": "Tutoriel.ipynb",
   "provenance": []
  },
  "kernelspec": {
   "display_name": "Python 3",
   "language": "python",
   "name": "python3"
  },
  "language_info": {
   "codemirror_mode": {
    "name": "ipython",
    "version": 3
   },
   "file_extension": ".py",
   "mimetype": "text/x-python",
   "name": "python",
   "nbconvert_exporter": "python",
   "pygments_lexer": "ipython3",
   "version": "3.8.0"
  }
 },
 "nbformat": 4,
 "nbformat_minor": 1
}
