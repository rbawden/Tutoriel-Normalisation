{
 "cells": [
  {
   "cell_type": "markdown",
   "metadata": {
    "colab_type": "text",
    "id": "view-in-github"
   },
   "source": [
    "<a href=\"https://colab.research.google.com/github/rbawden/Tutoriel-Normalisation/blob/main/Tutoriel.ipynb\" target=\"_parent\"><img src=\"https://colab.research.google.com/assets/colab-badge.svg\" alt=\"Open In Colab\"/></a>"
   ]
  },
  {
   "cell_type": "markdown",
   "metadata": {},
   "source": [
    "Installer les paquets nécessaires"
   ]
  },
  {
   "cell_type": "code",
   "execution_count": 30,
   "metadata": {
    "scrolled": true
   },
   "outputs": [
    {
     "name": "stdout",
     "output_type": "stream",
     "text": [
      "Requirement already satisfied: gdown==4.2.0 in /Users/rbawden/miniconda3/lib/python3.8/site-packages (4.2.0)\n",
      "Requirement already satisfied: fairseq in /Users/rbawden/miniconda3/lib/python3.8/site-packages (0.10.2)\n",
      "Requirement already satisfied: sentencepiece in /Users/rbawden/miniconda3/lib/python3.8/site-packages (0.1.96)\n",
      "Requirement already satisfied: sacrebleu in /Users/rbawden/miniconda3/lib/python3.8/site-packages (2.0.0)\n",
      "Requirement already satisfied: hydra-core in /Users/rbawden/miniconda3/lib/python3.8/site-packages (0.11.3)\n",
      "Requirement already satisfied: beautifulsoup4 in /Users/rbawden/miniconda3/lib/python3.8/site-packages (from gdown==4.2.0) (4.9.3)\n",
      "Requirement already satisfied: six in /Users/rbawden/miniconda3/lib/python3.8/site-packages (from gdown==4.2.0) (1.16.0)\n",
      "Requirement already satisfied: filelock in /Users/rbawden/miniconda3/lib/python3.8/site-packages (from gdown==4.2.0) (3.4.0)\n",
      "Requirement already satisfied: requests[socks] in /Users/rbawden/miniconda3/lib/python3.8/site-packages (from gdown==4.2.0) (2.24.0)\n",
      "Requirement already satisfied: tqdm in /Users/rbawden/miniconda3/lib/python3.8/site-packages (from gdown==4.2.0) (4.62.3)\n",
      "Requirement already satisfied: torch in /Users/rbawden/miniconda3/lib/python3.8/site-packages (from fairseq) (1.10.0)\n",
      "Requirement already satisfied: regex in /Users/rbawden/miniconda3/lib/python3.8/site-packages (from fairseq) (2021.11.10)\n",
      "Requirement already satisfied: cython in /Users/rbawden/miniconda3/lib/python3.8/site-packages (from fairseq) (0.29.24)\n",
      "Requirement already satisfied: dataclasses in /Users/rbawden/miniconda3/lib/python3.8/site-packages (from fairseq) (0.6)\n",
      "Requirement already satisfied: cffi in /Users/rbawden/miniconda3/lib/python3.8/site-packages (from fairseq) (1.15.0)\n",
      "Requirement already satisfied: numpy in /Users/rbawden/miniconda3/lib/python3.8/site-packages (from fairseq) (1.21.4)\n",
      "Requirement already satisfied: portalocker in /Users/rbawden/miniconda3/lib/python3.8/site-packages (from sacrebleu) (2.3.2)\n",
      "Requirement already satisfied: tabulate>=0.8.9 in /Users/rbawden/miniconda3/lib/python3.8/site-packages (from sacrebleu) (0.8.9)\n",
      "Requirement already satisfied: colorama in /Users/rbawden/miniconda3/lib/python3.8/site-packages (from sacrebleu) (0.4.4)\n",
      "Collecting omegaconf<1.5,>=1.4\n",
      "  Using cached omegaconf-1.4.1-py3-none-any.whl (14 kB)\n",
      "Requirement already satisfied: PyYAML in /Users/rbawden/miniconda3/lib/python3.8/site-packages (from omegaconf<1.5,>=1.4->hydra-core) (6.0)\n",
      "Requirement already satisfied: soupsieve>1.2 in /Users/rbawden/miniconda3/lib/python3.8/site-packages (from beautifulsoup4->gdown==4.2.0) (2.0.1)\n",
      "Requirement already satisfied: pycparser in /Users/rbawden/miniconda3/lib/python3.8/site-packages (from cffi->fairseq) (2.21)\n",
      "Requirement already satisfied: urllib3!=1.25.0,!=1.25.1,<1.26,>=1.21.1 in /Users/rbawden/miniconda3/lib/python3.8/site-packages (from requests[socks]->gdown==4.2.0) (1.25.10)\n",
      "Requirement already satisfied: certifi>=2017.4.17 in /Users/rbawden/miniconda3/lib/python3.8/site-packages (from requests[socks]->gdown==4.2.0) (2020.6.20)\n",
      "Requirement already satisfied: idna<3,>=2.5 in /Users/rbawden/miniconda3/lib/python3.8/site-packages (from requests[socks]->gdown==4.2.0) (2.10)\n",
      "Requirement already satisfied: chardet<4,>=3.0.2 in /Users/rbawden/miniconda3/lib/python3.8/site-packages (from requests[socks]->gdown==4.2.0) (3.0.4)\n",
      "Requirement already satisfied: PySocks!=1.5.7,>=1.5.6 in /Users/rbawden/miniconda3/lib/python3.8/site-packages (from requests[socks]->gdown==4.2.0) (1.7.1)\n",
      "Requirement already satisfied: typing-extensions in /Users/rbawden/miniconda3/lib/python3.8/site-packages (from torch->fairseq) (4.0.0)\n",
      "Installing collected packages: omegaconf\n",
      "  Attempting uninstall: omegaconf\n",
      "    Found existing installation: omegaconf 2.1.1\n",
      "    Uninstalling omegaconf-2.1.1:\n",
      "      Successfully uninstalled omegaconf-2.1.1\n",
      "Successfully installed omegaconf-1.4.1\n",
      "Collecting omegaconf==2.1.1\n",
      "  Using cached omegaconf-2.1.1-py3-none-any.whl (74 kB)\n",
      "Requirement already satisfied: antlr4-python3-runtime==4.8 in /Users/rbawden/miniconda3/lib/python3.8/site-packages (from omegaconf==2.1.1) (4.8)\n",
      "Requirement already satisfied: PyYAML>=5.1.0 in /Users/rbawden/miniconda3/lib/python3.8/site-packages (from omegaconf==2.1.1) (6.0)\n",
      "Installing collected packages: omegaconf\n",
      "  Attempting uninstall: omegaconf\n",
      "    Found existing installation: omegaconf 1.4.1\n",
      "    Uninstalling omegaconf-1.4.1:\n",
      "      Successfully uninstalled omegaconf-1.4.1\n",
      "\u001b[31mERROR: pip's dependency resolver does not currently take into account all the packages that are installed. This behaviour is the source of the following dependency conflicts.\n",
      "hydra-core 0.11.3 requires omegaconf<1.5,>=1.4, but you have omegaconf 2.1.1 which is incompatible.\u001b[0m\n",
      "Successfully installed omegaconf-2.1.1\n"
     ]
    }
   ],
   "source": [
    "!pip install gdown==4.2.0 fairseq sentencepiece sacrebleu hydra-core\n",
    "!pip install omegaconf==2.1.1"
   ]
  },
  {
   "cell_type": "code",
   "execution_count": 66,
   "metadata": {},
   "outputs": [
    {
     "name": "stdout",
     "output_type": "stream",
     "text": [
      "Python 3.8.5\r\n"
     ]
    }
   ],
   "source": [
    "!python --version"
   ]
  },
  {
   "cell_type": "markdown",
   "metadata": {},
   "source": [
    "Télécharger les données et les modèles depuis Google Drive"
   ]
  },
  {
   "cell_type": "code",
   "execution_count": 32,
   "metadata": {
    "scrolled": true
   },
   "outputs": [],
   "source": [
    "![ -d data-models ] || gdown https://drive.google.com/drive/folders/1h-qSnPBPZFZQ_kqWIBMhkkFS-6C2b10H?usp=sharing -O data-models --folder "
   ]
  },
  {
   "cell_type": "markdown",
   "metadata": {},
   "source": [
    "Créer des liens symboliques pour rendre les fichiers/dossiers téléchargés plus accessible"
   ]
  },
  {
   "cell_type": "code",
   "execution_count": 54,
   "metadata": {},
   "outputs": [],
   "source": [
    "![ -d data ] || mkdir data; [ -d models ] || mkdir models\n",
    "!for file in data-models/*{src,trg,model,vocab}; do ln -sf  $PWD/$file $PWD/data/; done\n",
    "!for file in data-models/*{txt,npz}; do ln -sf $PWD/$file $PWD/models/; done"
   ]
  },
  {
   "cell_type": "code",
   "execution_count": 55,
   "metadata": {},
   "outputs": [],
   "source": [
    "import os, sys\n",
    "for folder in 'models', 'data':\n",
    "  path = os.path.abspath(os.path.join('./', folder))\n",
    "  if path not in sys.path:\n",
    "    sys.path.append(path)"
   ]
  },
  {
   "cell_type": "markdown",
   "metadata": {},
   "source": [
    "Fonction pour lire le contenu d'un fichier ligne par ligne"
   ]
  },
  {
   "cell_type": "code",
   "execution_count": 56,
   "metadata": {},
   "outputs": [],
   "source": [
    "def lire_fichier(nom_fichier):\n",
    "  contenu = []\n",
    "  with open(nom_fichier) as fp:\n",
    "    for line in fp:\n",
    "      contenu.append(line.strip())\n",
    "  return contenu\n",
    "\n",
    "def ecrire_fichier(liste_phrases, nom_fichier):\n",
    "    with open(nom_fichier, 'w') as fp:\n",
    "        for phrase in liste_phrases:\n",
    "            fp.write(phrase + '\\n')"
   ]
  },
  {
   "cell_type": "markdown",
   "metadata": {},
   "source": [
    "Lire le contenu des données parallèles"
   ]
  },
  {
   "cell_type": "code",
   "execution_count": 57,
   "metadata": {},
   "outputs": [],
   "source": [
    "data_src = lire_fichier(os.getcwd() + '/data/dev.src')\n",
    "data_trg = lire_fichier('data/dev.trg')"
   ]
  },
  {
   "cell_type": "markdown",
   "metadata": {},
   "source": [
    "Visualiser les fichiers sources et cibles"
   ]
  },
  {
   "cell_type": "code",
   "execution_count": 58,
   "metadata": {},
   "outputs": [
    {
     "name": "stdout",
     "output_type": "stream",
     "text": [
      "src =  1.\n",
      "trg =  1.\n",
      "--\n",
      "src =  1. QVe cette propoſtion, qu'vn eſpace eſt vuidé, repugne au ſens commun.\n",
      "trg =  1. QUe cette proposition, qu'un espace est vidé, répugne au sens commun.\n",
      "--\n",
      "src =  1. QVe tous les corps ont repugnance à ſe ſeparer l'vn de l'autre, & admettre du vuide dans leur interualle;\n",
      "trg =  1. QUe tous les corps ont répugnance à se séparer l'un de l'autre, et admettre du vide dans leur intervalle;\n",
      "--\n",
      "src =  1. QVe tous les corps ont repugnance à ſe ſeparer l'vn de l'autre, & admettre ce vuide apparent dans leur interualle:\n",
      "trg =  1. QUe tous les corps ont répugnance à se séparer l'un de l'autre, et admettre ce vide apparent dans leur intervalle:\n",
      "--\n"
     ]
    }
   ],
   "source": [
    "for i in range(4):\n",
    "    print('src = ', data_src[i])\n",
    "    print('trg = ', data_trg[i])\n",
    "    print('--')"
   ]
  },
  {
   "cell_type": "markdown",
   "metadata": {},
   "source": [
    "Charger le modèle de segmentation en sous-mots"
   ]
  },
  {
   "cell_type": "code",
   "execution_count": 59,
   "metadata": {},
   "outputs": [],
   "source": [
    "import sentencepiece\n",
    "spm = sentencepiece.SentencePieceProcessor(model_file='data/bpe_joint_1000.model')"
   ]
  },
  {
   "cell_type": "markdown",
   "metadata": {},
   "source": [
    "Appliquer le modèle sur les données"
   ]
  },
  {
   "cell_type": "code",
   "execution_count": 60,
   "metadata": {},
   "outputs": [],
   "source": [
    "data_src_sp = spm.encode(data_src, out_type=str)\n",
    "data_trg_sp = spm.encode(data_trg, out_type=str)"
   ]
  },
  {
   "cell_type": "markdown",
   "metadata": {},
   "source": [
    "Ecrire les données pre-traités dans des fichiers"
   ]
  },
  {
   "cell_type": "markdown",
   "metadata": {},
   "source": [
    "Visualiser les fichiers"
   ]
  },
  {
   "cell_type": "code",
   "execution_count": 61,
   "metadata": {},
   "outputs": [],
   "source": [
    "ecrire_fichier([' '.join(phrase) for phrase in data_src_sp], 'data/dev.sp.src')\n",
    "ecrire_fichier([' '.join(phrase) for phrase in data_trg_sp], 'data/dev.sp.trg')"
   ]
  },
  {
   "cell_type": "code",
   "execution_count": 62,
   "metadata": {},
   "outputs": [
    {
     "name": "stdout",
     "output_type": "stream",
     "text": [
      "src =  ['▁1', '.']\n",
      "trg =  ['▁1', '.']\n",
      "--\n",
      "src =  ['▁1', '.', '▁Q', 'V', 'e', '▁cette', '▁prop', 'ost', 'ion', ',', '▁qu', \"'\", 'vn', '▁esp', 'ace', '▁est', '▁v', 'ui', 'd', 'é', ',', '▁re', 'p', 'u', 'gne', '▁au', '▁sens', '▁comm', 'un', '.']\n",
      "trg =  ['▁1', '.', '▁Q', 'U', 'e', '▁cette', '▁prop', 'os', 'it', 'ion', ',', '▁qu', \"'\", 'un', '▁esp', 'ace', '▁est', '▁v', 'id', 'é', ',', '▁rép', 'u', 'gne', '▁au', '▁sens', '▁comm', 'un', '.']\n",
      "--\n",
      "src =  ['▁1', '.', '▁Q', 'V', 'e', '▁tous', '▁les', '▁cor', 'p', 's', '▁ont', '▁re', 'p', 'u', 'gn', 'ance', '▁à', '▁se', '▁se', 'p', 'are', 'r', '▁l', \"'\", 'vn', '▁de', '▁l', \"'\", 'autre', ',', '▁&', '▁ad', 'm', 'ettre', '▁du', '▁v', 'ui', 'de', '▁dans', '▁leur', '▁in', 'ter', 'u', 'al', 'le', ';']\n",
      "trg =  ['▁1', '.', '▁Q', 'U', 'e', '▁tous', '▁les', '▁cor', 'p', 's', '▁ont', '▁rép', 'u', 'gn', 'ance', '▁à', '▁se', '▁s', 'ép', 'are', 'r', '▁l', \"'\", 'un', '▁de', '▁l', \"'\", 'autre', ',', '▁et', '▁ad', 'm', 'ettre', '▁du', '▁vi', 'de', '▁dans', '▁leur', '▁in', 'ter', 'v', 'al', 'le', ';']\n",
      "--\n",
      "src =  ['▁1', '.', '▁Q', 'V', 'e', '▁tous', '▁les', '▁cor', 'p', 's', '▁ont', '▁re', 'p', 'u', 'gn', 'ance', '▁à', '▁se', '▁se', 'p', 'are', 'r', '▁l', \"'\", 'vn', '▁de', '▁l', \"'\", 'autre', ',', '▁&', '▁ad', 'm', 'ettre', '▁ce', '▁v', 'ui', 'de', '▁app', 'ar', 'ent', '▁dans', '▁leur', '▁in', 'ter', 'u', 'al', 'le', ':']\n",
      "trg =  ['▁1', '.', '▁Q', 'U', 'e', '▁tous', '▁les', '▁cor', 'p', 's', '▁ont', '▁rép', 'u', 'gn', 'ance', '▁à', '▁se', '▁s', 'ép', 'are', 'r', '▁l', \"'\", 'un', '▁de', '▁l', \"'\", 'autre', ',', '▁et', '▁ad', 'm', 'ettre', '▁ce', '▁vi', 'de', '▁app', 'ar', 'ent', '▁dans', '▁leur', '▁in', 'ter', 'v', 'al', 'le', ':']\n",
      "--\n"
     ]
    }
   ],
   "source": [
    "for i in range(4):\n",
    "    print('src = ', data_src_sp[i])\n",
    "    print('trg = ', data_trg_sp[i])\n",
    "    print('--')"
   ]
  },
  {
   "cell_type": "markdown",
   "metadata": {},
   "source": [
    "Définir une fonction pour détokeniser (pour plus tard)"
   ]
  },
  {
   "cell_type": "code",
   "execution_count": 63,
   "metadata": {},
   "outputs": [],
   "source": [
    "def decode_sp(list_text):\n",
    "    return [''.join(sent).replace('▁', ' ') for sent in list_text]"
   ]
  },
  {
   "cell_type": "code",
   "execution_count": 64,
   "metadata": {},
   "outputs": [
    {
     "data": {
      "text/plain": [
       "[' 1.',\n",
       " \" 1. QVe cette propostion, qu'vn espace est vuidé, repugne au sens commun.\",\n",
       " \" 1. QVe tous les corps ont repugnance à se separer l'vn de l'autre, & admettre du vuide dans leur interualle;\",\n",
       " \" 1. QVe tous les corps ont repugnance à se separer l'vn de l'autre, & admettre ce vuide apparent dans leur interualle:\",\n",
       " ' 2.']"
      ]
     },
     "execution_count": 64,
     "metadata": {},
     "output_type": "execute_result"
    }
   ],
   "source": [
    "decode_sp(data_src_sp[:5])"
   ]
  },
  {
   "cell_type": "markdown",
   "metadata": {},
   "source": [
    "Charger le modèle de normalisation déjà entraîné"
   ]
  },
  {
   "cell_type": "code",
   "execution_count": 65,
   "metadata": {},
   "outputs": [
    {
     "name": "stdout",
     "output_type": "stream",
     "text": [
      "Traceback (most recent call last):\n",
      "  File \"/Users/rbawden/miniconda3/bin/fairseq-interactive\", line 5, in <module>\n",
      "    from fairseq_cli.interactive import cli_main\n",
      "  File \"/Users/rbawden/miniconda3/lib/python3.8/site-packages/fairseq_cli/interactive.py\", line 20, in <module>\n",
      "    from fairseq import checkpoint_utils, distributed_utils, options, tasks, utils\n",
      "  File \"/Users/rbawden/miniconda3/lib/python3.8/site-packages/fairseq/__init__.py\", line 20, in <module>\n",
      "    import fairseq.models  # noqa\n",
      "  File \"/Users/rbawden/miniconda3/lib/python3.8/site-packages/fairseq/models/__init__.py\", line 177, in <module>\n",
      "    module = importlib.import_module(\"fairseq.models.\" + model_name)\n",
      "  File \"/Users/rbawden/miniconda3/lib/python3.8/importlib/__init__.py\", line 127, in import_module\n",
      "    return _bootstrap._gcd_import(name[level:], package, level)\n",
      "  File \"/Users/rbawden/miniconda3/lib/python3.8/site-packages/fairseq/models/transformer_lm.py\", line 10, in <module>\n",
      "    from fairseq import options, utils\n",
      "  File \"/Users/rbawden/miniconda3/lib/python3.8/site-packages/fairseq/options.py\", line 12, in <module>\n",
      "    from fairseq.dataclass.data_class import (\n",
      "  File \"/Users/rbawden/miniconda3/lib/python3.8/site-packages/fairseq/dataclass/data_class.py\", line 27, in <module>\n",
      "    from hydra.core.config_store import ConfigStore\n",
      "  File \"/Users/rbawden/miniconda3/lib/python3.8/site-packages/hydra/__init__.py\", line 2, in <module>\n",
      "    from . import utils\n",
      "  File \"/Users/rbawden/miniconda3/lib/python3.8/site-packages/hydra/utils.py\", line 7, in <module>\n",
      "    from hydra.plugins.common.utils import HydraConfig\n",
      "  File \"/Users/rbawden/miniconda3/lib/python3.8/site-packages/hydra/plugins/__init__.py\", line 11, in <module>\n",
      "    from .completion_plugin import CompletionPlugin\n",
      "  File \"/Users/rbawden/miniconda3/lib/python3.8/site-packages/hydra/plugins/completion_plugin.py\", line 7, in <module>\n",
      "    from omegaconf import DictConfig, ListConfig, Config, MissingMandatoryValue\n",
      "ImportError: cannot import name 'Config' from 'omegaconf' (/Users/rbawden/miniconda3/lib/python3.8/site-packages/omegaconf/__init__.py)\n",
      "cat: stdout: Broken pipe\n"
     ]
    }
   ],
   "source": [
    "!cat data/dev.sp.src | fairseq-interactive models/best_lstm --path models/best_lstm/model.npz > data/dev.sp.norm.src"
   ]
  },
  {
   "cell_type": "code",
   "execution_count": null,
   "metadata": {},
   "outputs": [],
   "source": []
  }
 ],
 "metadata": {
  "colab": {
   "authorship_tag": "ABX9TyN8AweSe1ASxQbXHW5LKQ6B",
   "include_colab_link": true,
   "name": "Tutoriel.ipynb",
   "provenance": []
  },
  "kernelspec": {
   "display_name": "Python 3",
   "language": "python",
   "name": "python3"
  },
  "language_info": {
   "codemirror_mode": {
    "name": "ipython",
    "version": 3
   },
   "file_extension": ".py",
   "mimetype": "text/x-python",
   "name": "python",
   "nbconvert_exporter": "python",
   "pygments_lexer": "ipython3",
   "version": "3.8.0"
  }
 },
 "nbformat": 4,
 "nbformat_minor": 1
}
