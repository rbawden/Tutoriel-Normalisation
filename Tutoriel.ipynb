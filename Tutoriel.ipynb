{
 "cells": [
  {
   "cell_type": "markdown",
   "metadata": {
    "colab_type": "text",
    "id": "view-in-github"
   },
   "source": [
    "<a href=\"https://colab.research.google.com/github/rbawden/Tutoriel-Normalisation/blob/main/Tutoriel.ipynb\" target=\"_parent\"><img src=\"https://colab.research.google.com/assets/colab-badge.svg\" alt=\"Open In Colab\"/></a>"
   ]
  },
  {
   "cell_type": "code",
   "execution_count": 1,
   "metadata": {},
   "outputs": [],
   "source": [
    "import os, sys\n",
    "for folder in 'model', 'data':\n",
    "  path = os.path.abspath(os.path.join('..', 'code'))\n",
    "  if path not in sys.path:\n",
    "    sys.path.append(path)"
   ]
  },
  {
   "cell_type": "code",
   "execution_count": null,
   "metadata": {},
   "outputs": [
    {
     "name": "stdout",
     "output_type": "stream",
     "text": [
      "Collecting package metadata (current_repodata.json): done\n",
      "Solving environment: failed with repodata from current_repodata.json, will retry with next repodata source.\n",
      "Collecting package metadata (repodata.json): done\n",
      "Solving environment: \\ "
     ]
    }
   ],
   "source": [
    "!conda create --name py35 python=3.5"
   ]
  },
  {
   "cell_type": "code",
   "execution_count": 42,
   "metadata": {
    "scrolled": false
   },
   "outputs": [
    {
     "name": "stdout",
     "output_type": "stream",
     "text": [
      "Running virtualenv with interpreter /Users/rbawden/miniconda3/bin/python3.8\n",
      "Using base prefix '/Users/rbawden/miniconda3'\n",
      "/Library/Python/2.7/site-packages/virtualenv.py:992: DeprecationWarning: the imp module is deprecated in favour of importlib; see the module's documentation for alternative uses\n",
      "  import imp\n",
      "New python executable in /Users/rbawden/Research/tutorials/Tutoriel-Normalisation/pyenv/bin/python3.8\n",
      "Also creating executable in /Users/rbawden/Research/tutorials/Tutoriel-Normalisation/pyenv/bin/python\n",
      "Installing setuptools, pip, wheel...done.\n",
      "\u001b[33mCache entry deserialization failed, entry ignored\u001b[0m\n",
      "Collecting pip\n",
      "  Using cached https://files.pythonhosted.org/packages/a4/6d/6463d49a933f547439d6b5b98b46af8742cc03ae83543e4d7688c2420f8b/pip-21.3.1-py3-none-any.whl\n",
      "Installing collected packages: pip\n",
      "  Found existing installation: pip 8.0.2\n",
      "    Uninstalling pip-8.0.2:\n",
      "      Successfully uninstalled pip-8.0.2\n",
      "Successfully installed pip-21.3.1\n"
     ]
    }
   ],
   "source": [
    "!virtualenv -p python3.8 pyenv\n",
    "!source pyenv/bin/activate\n",
    "!pip install --upgrade pip"
   ]
  },
  {
   "cell_type": "code",
   "execution_count": 43,
   "metadata": {
    "id": "uXgBcEQ9NNxK",
    "scrolled": true
   },
   "outputs": [
    {
     "name": "stdout",
     "output_type": "stream",
     "text": [
      "Collecting cffi==1.15.0\n",
      "  Using cached cffi-1.15.0-cp38-cp38-macosx_10_9_x86_64.whl (178 kB)\n",
      "Collecting colorama==0.4.4\n",
      "  Using cached colorama-0.4.4-py2.py3-none-any.whl (16 kB)\n",
      "Collecting Cython==0.29.24\n",
      "  Using cached Cython-0.29.24-cp38-cp38-macosx_10_9_x86_64.whl (1.9 MB)\n",
      "Collecting dataclasses==0.6\n",
      "  Using cached dataclasses-0.6-py3-none-any.whl (14 kB)\n",
      "Collecting fairseq==0.10.2\n",
      "  Using cached fairseq-0.10.2-cp38-cp38-macosx_10_9_x86_64.whl (1.1 MB)\n",
      "Collecting hydra-core==0.11.3\n",
      "  Using cached hydra_core-0.11.3-py3-none-any.whl (72 kB)\n",
      "Collecting numpy==1.21.4\n",
      "  Using cached numpy-1.21.4-cp38-cp38-macosx_10_9_x86_64.whl (16.9 MB)\n",
      "Collecting omegaconf==1.4.1\n",
      "  Using cached omegaconf-1.4.1-py3-none-any.whl (14 kB)\n",
      "Collecting portalocker==2.3.2\n",
      "  Using cached portalocker-2.3.2-py2.py3-none-any.whl (15 kB)\n",
      "Collecting pycparser==2.21\n",
      "  Using cached pycparser-2.21-py2.py3-none-any.whl (118 kB)\n",
      "Collecting PyYAML==6.0\n",
      "  Using cached PyYAML-6.0-cp38-cp38-macosx_10_9_x86_64.whl (192 kB)\n",
      "Collecting regex==2021.11.10\n",
      "  Using cached regex-2021.11.10-cp38-cp38-macosx_10_9_x86_64.whl (288 kB)\n",
      "Collecting sacrebleu==2.0.0\n",
      "  Using cached sacrebleu-2.0.0-py3-none-any.whl (90 kB)\n",
      "Collecting sentencepiece==0.1.96\n",
      "  Using cached sentencepiece-0.1.96-cp38-cp38-macosx_10_6_x86_64.whl (1.1 MB)\n",
      "Collecting six==1.16.0\n",
      "  Using cached six-1.16.0-py2.py3-none-any.whl (11 kB)\n",
      "Collecting tabulate==0.8.9\n",
      "  Using cached tabulate-0.8.9-py3-none-any.whl (25 kB)\n",
      "Collecting torch==1.10.0\n",
      "  Using cached torch-1.10.0-cp38-none-macosx_10_9_x86_64.whl (147.1 MB)\n",
      "Collecting tqdm==4.62.3\n",
      "  Using cached tqdm-4.62.3-py2.py3-none-any.whl (76 kB)\n",
      "Collecting typing_extensions==4.0.0\n",
      "  Using cached typing_extensions-4.0.0-py3-none-any.whl (22 kB)\n",
      "Installing collected packages: six, PyYAML, typing-extensions, tabulate, regex, pycparser, portalocker, omegaconf, numpy, colorama, tqdm, torch, sacrebleu, hydra-core, dataclasses, Cython, cffi, sentencepiece, fairseq\n",
      "Successfully installed Cython-0.29.24 PyYAML-6.0 cffi-1.15.0 colorama-0.4.4 dataclasses-0.6 fairseq-0.10.2 hydra-core-0.11.3 numpy-1.21.4 omegaconf-1.4.1 portalocker-2.3.2 pycparser-2.21 regex-2021.11.10 sacrebleu-2.0.0 sentencepiece-0.1.96 six-1.16.0 tabulate-0.8.9 torch-1.10.0 tqdm-4.62.3 typing-extensions-4.0.0\n"
     ]
    }
   ],
   "source": [
    "!pip install  -r requirements.txt"
   ]
  },
  {
   "cell_type": "code",
   "execution_count": null,
   "metadata": {},
   "outputs": [],
   "source": []
  },
  {
   "cell_type": "markdown",
   "metadata": {},
   "source": [
    "Fonction pour lire le contenu d'un fichier ligne par ligne"
   ]
  },
  {
   "cell_type": "code",
   "execution_count": 28,
   "metadata": {},
   "outputs": [],
   "source": [
    "def lire_fichier(nom_fichier):\n",
    "  contenu = []\n",
    "  with open(nom_fichier) as fp:\n",
    "    for line in fp:\n",
    "      contenu.append(line.strip())\n",
    "  return contenu\n",
    "\n",
    "def ecrire_fichier(liste_phrases, nom_fichier):\n",
    "    with open(nom_fichier, 'w') as fp:\n",
    "        for phrase in liste_phrases:\n",
    "            fp.write(phrase + '\\n')"
   ]
  },
  {
   "cell_type": "markdown",
   "metadata": {},
   "source": [
    "Lire le contenu des données parallèles"
   ]
  },
  {
   "cell_type": "code",
   "execution_count": 8,
   "metadata": {},
   "outputs": [],
   "source": [
    "data_src = lire_fichier('data/dev.src')\n",
    "data_trg = lire_fichier('data/dev.trg')"
   ]
  },
  {
   "cell_type": "markdown",
   "metadata": {},
   "source": [
    "Visualiser les fichiers sources et cibles"
   ]
  },
  {
   "cell_type": "code",
   "execution_count": 9,
   "metadata": {},
   "outputs": [
    {
     "name": "stdout",
     "output_type": "stream",
     "text": [
      "src =  1.\n",
      "trg =  1.\n",
      "--\n",
      "src =  1. QVe cette propoſtion, qu'vn eſpace eſt vuidé, repugne au ſens commun.\n",
      "trg =  1. QUe cette proposition, qu'un espace est vidé, répugne au sens commun.\n",
      "--\n",
      "src =  1. QVe tous les corps ont repugnance à ſe ſeparer l'vn de l'autre, & admettre du vuide dans leur interualle;\n",
      "trg =  1. QUe tous les corps ont répugnance à se séparer l'un de l'autre, et admettre du vide dans leur intervalle;\n",
      "--\n",
      "src =  1. QVe tous les corps ont repugnance à ſe ſeparer l'vn de l'autre, & admettre ce vuide apparent dans leur interualle:\n",
      "trg =  1. QUe tous les corps ont répugnance à se séparer l'un de l'autre, et admettre ce vide apparent dans leur intervalle:\n",
      "--\n"
     ]
    }
   ],
   "source": [
    "for i in range(4):\n",
    "    print('src = ', data_src[i])\n",
    "    print('trg = ', data_trg[i])\n",
    "    print('--')"
   ]
  },
  {
   "cell_type": "markdown",
   "metadata": {},
   "source": [
    "Charger le modèle de segmentation en sous-mots"
   ]
  },
  {
   "cell_type": "code",
   "execution_count": 10,
   "metadata": {},
   "outputs": [],
   "source": [
    "import sentencepiece\n",
    "spm = sentencepiece.SentencePieceProcessor(model_file='data/bpe_joint_1000.model')"
   ]
  },
  {
   "cell_type": "markdown",
   "metadata": {},
   "source": [
    "Appliquer le modèle sur les données"
   ]
  },
  {
   "cell_type": "code",
   "execution_count": 13,
   "metadata": {},
   "outputs": [],
   "source": [
    "data_src_sp = spm.encode(data_src, out_type=str)\n",
    "data_trg_sp = spm.encode(data_trg, out_type=str)"
   ]
  },
  {
   "cell_type": "markdown",
   "metadata": {},
   "source": [
    "Ecrire les données pre-traités dans des fichiers"
   ]
  },
  {
   "cell_type": "markdown",
   "metadata": {},
   "source": [
    "Visualiser les fichiers"
   ]
  },
  {
   "cell_type": "code",
   "execution_count": 31,
   "metadata": {},
   "outputs": [],
   "source": [
    "ecrire_fichier([' '.join(phrase) for phrase in data_src_sp], 'data/dev.sp.src')\n",
    "ecrire_fichier([' '.join(phrase) for phrase in data_trg_sp], 'data/dev.sp.trg')"
   ]
  },
  {
   "cell_type": "code",
   "execution_count": 30,
   "metadata": {},
   "outputs": [
    {
     "name": "stdout",
     "output_type": "stream",
     "text": [
      "src =  ['▁1', '.']\n",
      "trg =  ['▁1', '.']\n",
      "--\n",
      "src =  ['▁1', '.', '▁Q', 'V', 'e', '▁cette', '▁prop', 'ost', 'ion', ',', '▁qu', \"'\", 'vn', '▁esp', 'ace', '▁est', '▁v', 'ui', 'd', 'é', ',', '▁re', 'p', 'u', 'gne', '▁au', '▁sens', '▁comm', 'un', '.']\n",
      "trg =  ['▁1', '.', '▁Q', 'U', 'e', '▁cette', '▁prop', 'os', 'it', 'ion', ',', '▁qu', \"'\", 'un', '▁esp', 'ace', '▁est', '▁v', 'id', 'é', ',', '▁rép', 'u', 'gne', '▁au', '▁sens', '▁comm', 'un', '.']\n",
      "--\n",
      "src =  ['▁1', '.', '▁Q', 'V', 'e', '▁tous', '▁les', '▁cor', 'p', 's', '▁ont', '▁re', 'p', 'u', 'gn', 'ance', '▁à', '▁se', '▁se', 'p', 'are', 'r', '▁l', \"'\", 'vn', '▁de', '▁l', \"'\", 'autre', ',', '▁&', '▁ad', 'm', 'ettre', '▁du', '▁v', 'ui', 'de', '▁dans', '▁leur', '▁in', 'ter', 'u', 'al', 'le', ';']\n",
      "trg =  ['▁1', '.', '▁Q', 'U', 'e', '▁tous', '▁les', '▁cor', 'p', 's', '▁ont', '▁rép', 'u', 'gn', 'ance', '▁à', '▁se', '▁s', 'ép', 'are', 'r', '▁l', \"'\", 'un', '▁de', '▁l', \"'\", 'autre', ',', '▁et', '▁ad', 'm', 'ettre', '▁du', '▁vi', 'de', '▁dans', '▁leur', '▁in', 'ter', 'v', 'al', 'le', ';']\n",
      "--\n",
      "src =  ['▁1', '.', '▁Q', 'V', 'e', '▁tous', '▁les', '▁cor', 'p', 's', '▁ont', '▁re', 'p', 'u', 'gn', 'ance', '▁à', '▁se', '▁se', 'p', 'are', 'r', '▁l', \"'\", 'vn', '▁de', '▁l', \"'\", 'autre', ',', '▁&', '▁ad', 'm', 'ettre', '▁ce', '▁v', 'ui', 'de', '▁app', 'ar', 'ent', '▁dans', '▁leur', '▁in', 'ter', 'u', 'al', 'le', ':']\n",
      "trg =  ['▁1', '.', '▁Q', 'U', 'e', '▁tous', '▁les', '▁cor', 'p', 's', '▁ont', '▁rép', 'u', 'gn', 'ance', '▁à', '▁se', '▁s', 'ép', 'are', 'r', '▁l', \"'\", 'un', '▁de', '▁l', \"'\", 'autre', ',', '▁et', '▁ad', 'm', 'ettre', '▁ce', '▁vi', 'de', '▁app', 'ar', 'ent', '▁dans', '▁leur', '▁in', 'ter', 'v', 'al', 'le', ':']\n",
      "--\n"
     ]
    }
   ],
   "source": [
    "for i in range(4):\n",
    "    print('src = ', data_src_sp[i])\n",
    "    print('trg = ', data_trg_sp[i])\n",
    "    print('--')"
   ]
  },
  {
   "cell_type": "markdown",
   "metadata": {},
   "source": [
    "Définir une fonction pour détokeniser (pour plus tard)"
   ]
  },
  {
   "cell_type": "code",
   "execution_count": 15,
   "metadata": {},
   "outputs": [],
   "source": [
    "def decode_sp(list_text):\n",
    "    return [''.join(sent).replace('▁', ' ') for sent in list_text]"
   ]
  },
  {
   "cell_type": "code",
   "execution_count": 16,
   "metadata": {},
   "outputs": [
    {
     "data": {
      "text/plain": [
       "[' 1.',\n",
       " \" 1. QVe cette propostion, qu'vn espace est vuidé, repugne au sens commun.\",\n",
       " \" 1. QVe tous les corps ont repugnance à se separer l'vn de l'autre, & admettre du vuide dans leur interualle;\",\n",
       " \" 1. QVe tous les corps ont repugnance à se separer l'vn de l'autre, & admettre ce vuide apparent dans leur interualle:\",\n",
       " ' 2.']"
      ]
     },
     "execution_count": 16,
     "metadata": {},
     "output_type": "execute_result"
    }
   ],
   "source": [
    "decode_sp(data_src_sp[:5])"
   ]
  },
  {
   "cell_type": "markdown",
   "metadata": {},
   "source": [
    "Charger le modèle de normalisation déjà entraîné"
   ]
  },
  {
   "cell_type": "code",
   "execution_count": 44,
   "metadata": {},
   "outputs": [
    {
     "name": "stdout",
     "output_type": "stream",
     "text": [
      "Traceback (most recent call last):\n",
      "  File \"/Users/rbawden/Research/tutorials/Tutoriel-Normalisation/pyenv/bin/fairseq-interactive\", line 5, in <module>\n",
      "    from fairseq_cli.interactive import cli_main\n",
      "  File \"/Users/rbawden/Research/tutorials/Tutoriel-Normalisation/pyenv/lib/python3.8/site-packages/fairseq_cli/interactive.py\", line 20, in <module>\n",
      "    from fairseq import checkpoint_utils, distributed_utils, options, tasks, utils\n",
      "  File \"/Users/rbawden/Research/tutorials/Tutoriel-Normalisation/pyenv/lib/python3.8/site-packages/fairseq/__init__.py\", line 19, in <module>\n",
      "    import fairseq.criterions  # noqa\n",
      "  File \"/Users/rbawden/Research/tutorials/Tutoriel-Normalisation/pyenv/lib/python3.8/site-packages/fairseq/criterions/__init__.py\", line 38, in <module>\n",
      "    importlib.import_module(\"fairseq.criterions.\" + file_name)\n",
      "  File \"/Users/rbawden/Research/tutorials/Tutoriel-Normalisation/pyenv/lib/python3.8/importlib/__init__.py\", line 127, in import_module\n",
      "    return _bootstrap._gcd_import(name[level:], package, level)\n",
      "  File \"/Users/rbawden/Research/tutorials/Tutoriel-Normalisation/pyenv/lib/python3.8/site-packages/fairseq/criterions/cross_entropy.py\", line 13, in <module>\n",
      "    from omegaconf import II\n",
      "ImportError: cannot import name 'II' from 'omegaconf' (/Users/rbawden/Research/tutorials/Tutoriel-Normalisation/pyenv/lib/python3.8/site-packages/omegaconf/__init__.py)\n",
      "cat: stdout: Broken pipe\n"
     ]
    }
   ],
   "source": [
    "!cat data/dev.sp.src | fairseq-interactive models/best_lstm --path models/best_lstm/model.npz > data/dev.sp.norm.src"
   ]
  },
  {
   "cell_type": "code",
   "execution_count": null,
   "metadata": {},
   "outputs": [],
   "source": []
  }
 ],
 "metadata": {
  "colab": {
   "authorship_tag": "ABX9TyN8AweSe1ASxQbXHW5LKQ6B",
   "include_colab_link": true,
   "name": "Tutoriel.ipynb",
   "provenance": []
  },
  "kernelspec": {
   "display_name": "Python 3",
   "language": "python",
   "name": "python3"
  },
  "language_info": {
   "codemirror_mode": {
    "name": "ipython",
    "version": 3
   },
   "file_extension": ".py",
   "mimetype": "text/x-python",
   "name": "python",
   "nbconvert_exporter": "python",
   "pygments_lexer": "ipython3",
   "version": "3.8.0"
  }
 },
 "nbformat": 4,
 "nbformat_minor": 1
}
